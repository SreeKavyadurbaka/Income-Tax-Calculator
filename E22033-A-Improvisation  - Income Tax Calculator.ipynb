{
 "cells": [
  {
   "cell_type": "code",
   "execution_count": null,
   "id": "6adb9c1b",
   "metadata": {},
   "outputs": [],
   "source": []
  },
  {
   "cell_type": "code",
   "execution_count": null,
   "id": "49a7a3f7",
   "metadata": {},
   "outputs": [],
   "source": [
    "# Took this from salary calculation problem : 32*12 = 384\n",
    "# Triying to improvise it with adding income tax and other layers "
   ]
  },
  {
   "cell_type": "markdown",
   "id": "4734c18d",
   "metadata": {},
   "source": [
    "## 1. Calculating Gross salary "
   ]
  },
  {
   "cell_type": "markdown",
   "id": "885aca86",
   "metadata": {},
   "source": [
    "CTC = Direct benefits+ Indirect benefits+Savings Contributions\n",
    "Cost to company = Gross salary + Benefits \n"
   ]
  },
  {
   "cell_type": "code",
   "execution_count": 2,
   "id": "6e2b9f93",
   "metadata": {},
   "outputs": [
    {
     "name": "stdout",
     "output_type": "stream",
     "text": [
      "Input CTC :320000\n",
      "Allowances: 79530.97119551364\n"
     ]
    }
   ],
   "source": [
    "ctc = int(input(\"Input CTC :\"))\n",
    "BP = (61.1776701503951/100)*ctc\n",
    "DA = 1/10*BP # Dearness Allowance \n",
    "HRA = 2/10*BP\n",
    "CA  = (2.5/100)*BP #Conveyence Allowances \n",
    "EA = (2.5/100)*BP #Entertainment Allowance \n",
    "OA = (2.5/100)*BP #Overime Allowance \n",
    "MR = 3.125/100*BP # Medical reiumbursements \n",
    "\n",
    "Allowances = DA+HRA+OA+MR+CA+EA\n",
    "print(\"Allowances:\",Allowances) \n"
   ]
  },
  {
   "cell_type": "markdown",
   "id": "7818e4a7",
   "metadata": {},
   "source": [
    "## 2. Calculating Benefits "
   ]
  },
  {
   "cell_type": "markdown",
   "id": "baa1d668",
   "metadata": {},
   "source": [
    "2. Benefits: \n",
    "Medical Insurance : 2000\n",
    "PF : 12% basic \n",
    "laptop : 50,000\n",
    "Total Benefits : MI+PF+L"
   ]
  },
  {
   "cell_type": "code",
   "execution_count": 3,
   "id": "f125f986",
   "metadata": {},
   "outputs": [
    {
     "name": "stdout",
     "output_type": "stream",
     "text": [
      "Total Benefits: 75492.22533775172\n"
     ]
    }
   ],
   "source": [
    "MI = 2000\n",
    "PF = 12/100*BP #12% of BP \n",
    "L = 50000\n",
    "TB = MI+PF+L\n",
    "print(\"Total Benefits:\",TB)"
   ]
  },
  {
   "cell_type": "markdown",
   "id": "4be42491",
   "metadata": {},
   "source": [
    "## The above two combined "
   ]
  },
  {
   "cell_type": "code",
   "execution_count": 25,
   "id": "a5ab9ba0",
   "metadata": {},
   "outputs": [
    {
     "name": "stdout",
     "output_type": "stream",
     "text": [
      "Input CTC :1000000\n",
      "Basic Pay: 611777\n",
      "Allowances: 248533\n",
      "Gross Salary: 860310\n",
      "Total Benefits: 125413\n"
     ]
    }
   ],
   "source": [
    "ctc = int(input(\"Input CTC :\"))\n",
    "BP = round((61.1776701503951/100)*ctc)\n",
    "DA = round(1/10*BP) # Dearness Allowance \n",
    "HRA = round(2/10*BP)\n",
    "CA  = round((2.5/100)*BP) #Conveyence Allowances \n",
    "EA = round((2.5/100)*BP) #Entertainment Allowance \n",
    "OA = round((2.5/100)*BP) #Overime Allowance \n",
    "MR = round(3.125/100*BP) # Medical reiumbursements \n",
    "\n",
    "Al = DA+HRA+OA+MR+CA+EA\n",
    "GS = BP+Al\n",
    "\n",
    "MI = 2000\n",
    "PF = round(12/100*BP) #12% of BP \n",
    "L = 50000\n",
    "TB = MI+PF+L\n",
    "print(\"Basic Pay:\",BP)\n",
    "print(\"Allowances:\",Al) \n",
    "print(\"Gross Salary:\",GS)\n",
    "print(\"Total Benefits:\",TB)\n"
   ]
  },
  {
   "cell_type": "markdown",
   "id": "af4c8325",
   "metadata": {},
   "source": [
    "3. Income from other sources"
   ]
  },
  {
   "cell_type": "markdown",
   "id": "90b09052",
   "metadata": {},
   "source": [
    "## 3. Adding income from other sources "
   ]
  },
  {
   "cell_type": "code",
   "execution_count": 26,
   "id": "8e83e1cd",
   "metadata": {},
   "outputs": [
    {
     "name": "stdout",
     "output_type": "stream",
     "text": [
      "Enter income from other sources(If no income from other sources enter 0.):500000\n",
      "Taxable Income: 1360310\n"
     ]
    }
   ],
   "source": [
    "# Many persons will have income from other sources also, so including it. \n",
    "\n",
    "ios = int(input(\"Enter income from other sources(If no income from other sources enter 0.):\"))\n",
    "TI = GS+ios\n",
    "print(\"Taxable Income:\",TI)"
   ]
  },
  {
   "cell_type": "markdown",
   "id": "b4413882",
   "metadata": {},
   "source": [
    "## 4.  Details "
   ]
  },
  {
   "cell_type": "code",
   "execution_count": 35,
   "id": "84c246c2",
   "metadata": {
    "scrolled": true
   },
   "outputs": [
    {
     "name": "stdout",
     "output_type": "stream",
     "text": [
      "FY 2022-2023(Latest Budget):Return to be filed between 1.4.23-31.3.2024\n",
      "FY 2021-2022(Latest Budget):Return to be filed between 1.4.22-31.3.2023\n",
      "Which Financial year do you want to calculate taxes for 2022 or 2021?2021\n"
     ]
    }
   ],
   "source": [
    "# Specifiying the year of tax will be better \n",
    "print(\"FY 2022-2023(Latest Budget):Return to be filed between 1.4.23-31.3.2024\")\n",
    "print(\"FY 2021-2022(Latest Budget):Return to be filed between 1.4.22-31.3.2023\")\n",
    "year = input(\"Which Financial year do you want to calculate taxes for 2022 or 2021?\")"
   ]
  },
  {
   "cell_type": "code",
   "execution_count": 4,
   "id": "72510f3d",
   "metadata": {},
   "outputs": [
    {
     "name": "stdout",
     "output_type": "stream",
     "text": [
      "Enter your age:24\n"
     ]
    }
   ],
   "source": [
    "#Tax liablility differs across age groups in india \n",
    "age = input(\"Enter your age:\")"
   ]
  },
  {
   "cell_type": "markdown",
   "id": "aff73f5e",
   "metadata": {},
   "source": [
    "## 5. Income tax calculation"
   ]
  },
  {
   "cell_type": "markdown",
   "id": "20f9cebe",
   "metadata": {},
   "source": [
    "Income Tax slab: New Regime Income Tax Slab Rates FY 2021-22 \n",
    "(Applicable for all individuals & HUF )"
   ]
  },
  {
   "cell_type": "code",
   "execution_count": 7,
   "id": "2e30030b",
   "metadata": {},
   "outputs": [
    {
     "name": "stdout",
     "output_type": "stream",
     "text": [
      "212062.0\n"
     ]
    }
   ],
   "source": [
    "#Under new tax regime 2021-22 \n",
    "# Creating Tax slabs \n",
    "\n",
    "if TI<=250000:\n",
    "    tax = 0 \n",
    "elif 250000<TI<=500000:\n",
    "    tax = 0.05*(TI)\n",
    "elif 500000<TI<=750000:\n",
    "    tax = 0.1*(TI)\n",
    "elif 750000<TI<=1000000:\n",
    "    tax = (15/100)*TI\n",
    "elif 1000000<TI<=1250000:\n",
    "    tax = (20/100)*TI\n",
    "elif 1250000<TI<=1500000:\n",
    "    tax = (1/4)*TI\n",
    "else:\n",
    "    tax = (30/100)*TI\n",
    "print(tax)\n",
    "    "
   ]
  },
  {
   "cell_type": "markdown",
   "id": "abe560ae",
   "metadata": {},
   "source": [
    "## 6. Tax Slabs as per regimes "
   ]
  },
  {
   "cell_type": "code",
   "execution_count": 62,
   "id": "b9e16be1",
   "metadata": {},
   "outputs": [],
   "source": [
    "# For old tax regime, age matters. \n",
    "# Indians can choose to pay taxes in old or new regimes. \n",
    "#So lets ask them if they want new tax regimes or the old ones. "
   ]
  },
  {
   "cell_type": "code",
   "execution_count": 34,
   "id": "f3bfeb3d",
   "metadata": {},
   "outputs": [
    {
     "name": "stdout",
     "output_type": "stream",
     "text": [
      "Your tax to be calculated under new/old regime:old\n",
      "Enter your age:68\n",
      "408093.0\n",
      "408093.0\n"
     ]
    }
   ],
   "source": [
    "Ques = input(\"Your tax to be calculated under new/old regime:\")\n",
    "if Ques.lower() == \"new\":\n",
    "    if TI<=250000:\n",
    "        tax = 0 \n",
    "    elif 250000<TI<=500000:\n",
    "        tax = 0.05*(TI)\n",
    "    elif 500000<TI<=750000:\n",
    "        tax = 0.1*(TI)\n",
    "    elif 750000<TI<=1000000:\n",
    "        tax = (15/100)*TI\n",
    "    elif 1000000<TI<=1250000:\n",
    "        tax = (20/100)*TI\n",
    "    elif 1250000<TI<=1500000:\n",
    "        tax = (1/4)*TI\n",
    "    else:\n",
    "        tax = (30/100)*TI\n",
    "elif Ques.lower() == \"old\":\n",
    "    age = int(input(\"Enter your age:\")) #In old regime age matters \n",
    "    if age<=60:\n",
    "        if TI<=250000:\n",
    "            tax = 0 \n",
    "        elif 250000<TI<=500000:\n",
    "            tax = 0.05*(TI)\n",
    "        elif 500000<TI<=1000000:\n",
    "            tax = (20/100)*(TI)\n",
    "        else:\n",
    "            tax = (30/100)*TI \n",
    "    elif 60<age<=80:\n",
    "        if TI<=300000:\n",
    "            tax = 0 \n",
    "        elif 300000<TI<=500000:\n",
    "            tax = 0.04*(TI)\n",
    "        elif 500000<TI<=1000000:\n",
    "            tax = (20/100)*(TI)\n",
    "        else:\n",
    "            tax = (30/100)*TI\n",
    "    else:\n",
    "        if TI<=500000:\n",
    "            tax = 0 \n",
    "        elif 500000<TI<=1000000:\n",
    "            tax = (20/100)*(TI)\n",
    "        else:\n",
    "            tax = (30/100)*TI\n",
    "print(tax)                                        \n",
    "      \n",
    "    "
   ]
  },
  {
   "cell_type": "markdown",
   "id": "0f308082",
   "metadata": {},
   "source": [
    "## 7. Income Tax Deductions "
   ]
  },
  {
   "cell_type": "code",
   "execution_count": 14,
   "id": "06cd4ce0",
   "metadata": {},
   "outputs": [
    {
     "name": "stdout",
     "output_type": "stream",
     "text": [
      "Do you want to claim any deductions?YES\n",
      "Taxable income after deductions 14262.919999999984\n"
     ]
    }
   ],
   "source": [
    "#Assuming medical insurance premium as 15000 per year \n",
    "#Including HRA, EPF, Medical insurance in tax deductions \n",
    "d = input(\"Do you want to claim any deductions?\")\n",
    "if d.lower() == \"yes\":\n",
    "    EPF = 12/100*(BP+DA)\n",
    "    medins = 15000\n",
    "    taxD = tax-(medins+EPF+HRA)\n",
    "    print(\"Taxable income after deductions\",taxD)\n",
    "\n",
    "    \n",
    "    \n",
    "   \n"
   ]
  },
  {
   "cell_type": "markdown",
   "id": "2cc4904f",
   "metadata": {},
   "source": [
    "## Income Tax Calculator  "
   ]
  },
  {
   "cell_type": "code",
   "execution_count": 57,
   "id": "5bbac631",
   "metadata": {},
   "outputs": [
    {
     "name": "stdout",
     "output_type": "stream",
     "text": [
      "Please enter your name:Sree Kavya Durbaka\n",
      "Enter your age:62\n",
      "Input CTC :2000000\n",
      "1720622\n",
      "Enter income from other sources(If no income from other sources enter 0.):0\n",
      "Your Report\n"
     ]
    },
    {
     "data": {
      "text/html": [
       "<style type=\"text/css\">\n",
       "#T_66de7_row0_col0, #T_66de7_row0_col1, #T_66de7_row1_col0, #T_66de7_row1_col1, #T_66de7_row2_col0, #T_66de7_row2_col1, #T_66de7_row3_col0, #T_66de7_row3_col1, #T_66de7_row4_col0, #T_66de7_row4_col1, #T_66de7_row5_col0, #T_66de7_row5_col1, #T_66de7_row6_col0, #T_66de7_row6_col1, #T_66de7_row7_col0, #T_66de7_row7_col1 {\n",
       "  background-color: black;\n",
       "  color: white;\n",
       "}\n",
       "</style>\n",
       "<table id=\"T_66de7_\">\n",
       "  <thead>\n",
       "    <tr>\n",
       "      <th class=\"blank level0\" >&nbsp;</th>\n",
       "      <th class=\"col_heading level0 col0\" >Old Regime</th>\n",
       "      <th class=\"col_heading level0 col1\" >New Regime</th>\n",
       "    </tr>\n",
       "  </thead>\n",
       "  <tbody>\n",
       "    <tr>\n",
       "      <th id=\"T_66de7_level0_row0\" class=\"row_heading level0 row0\" >Name</th>\n",
       "      <td id=\"T_66de7_row0_col0\" class=\"data row0 col0\" >Sree Kavya Durbaka</td>\n",
       "      <td id=\"T_66de7_row0_col1\" class=\"data row0 col1\" >Sree Kavya Durbaka</td>\n",
       "    </tr>\n",
       "    <tr>\n",
       "      <th id=\"T_66de7_level0_row1\" class=\"row_heading level0 row1\" >Age</th>\n",
       "      <td id=\"T_66de7_row1_col0\" class=\"data row1 col0\" >62</td>\n",
       "      <td id=\"T_66de7_row1_col1\" class=\"data row1 col1\" >62</td>\n",
       "    </tr>\n",
       "    <tr>\n",
       "      <th id=\"T_66de7_level0_row2\" class=\"row_heading level0 row2\" >CTC</th>\n",
       "      <td id=\"T_66de7_row2_col0\" class=\"data row2 col0\" >2000000</td>\n",
       "      <td id=\"T_66de7_row2_col1\" class=\"data row2 col1\" >2000000</td>\n",
       "    </tr>\n",
       "    <tr>\n",
       "      <th id=\"T_66de7_level0_row3\" class=\"row_heading level0 row3\" >Gross Total Income</th>\n",
       "      <td id=\"T_66de7_row3_col0\" class=\"data row3 col0\" >1720622</td>\n",
       "      <td id=\"T_66de7_row3_col1\" class=\"data row3 col1\" >1720622</td>\n",
       "    </tr>\n",
       "    <tr>\n",
       "      <th id=\"T_66de7_level0_row4\" class=\"row_heading level0 row4\" >Deductons(HRA,EPF)</th>\n",
       "      <td id=\"T_66de7_row4_col0\" class=\"data row4 col0\" >406219.960000</td>\n",
       "      <td id=\"T_66de7_row4_col1\" class=\"data row4 col1\" >-</td>\n",
       "    </tr>\n",
       "    <tr>\n",
       "      <th id=\"T_66de7_level0_row5\" class=\"row_heading level0 row5\" >Taxable Income</th>\n",
       "      <td id=\"T_66de7_row5_col0\" class=\"data row5 col0\" >1314402.040000</td>\n",
       "      <td id=\"T_66de7_row5_col1\" class=\"data row5 col1\" >1720622.000000</td>\n",
       "    </tr>\n",
       "    <tr>\n",
       "      <th id=\"T_66de7_level0_row6\" class=\"row_heading level0 row6\" >Tax Slab</th>\n",
       "      <td id=\"T_66de7_row6_col0\" class=\"data row6 col0\" >>15L</td>\n",
       "      <td id=\"T_66de7_row6_col1\" class=\"data row6 col1\" >>15L</td>\n",
       "    </tr>\n",
       "    <tr>\n",
       "      <th id=\"T_66de7_level0_row7\" class=\"row_heading level0 row7\" >Tax Due on above</th>\n",
       "      <td id=\"T_66de7_row7_col0\" class=\"data row7 col0\" >394320.612000</td>\n",
       "      <td id=\"T_66de7_row7_col1\" class=\"data row7 col1\" >516186.600000</td>\n",
       "    </tr>\n",
       "  </tbody>\n",
       "</table>\n"
      ],
      "text/plain": [
       "<pandas.io.formats.style.Styler at 0x1c0a128a460>"
      ]
     },
     "execution_count": 57,
     "metadata": {},
     "output_type": "execute_result"
    }
   ],
   "source": [
    "# Specifiying the year of tax will be better \n",
    "#Tax liablility differs across age groups in india \n",
    "name = input(\"Please enter your name:\")\n",
    "age = int(input(\"Enter your age:\"))\n",
    "#CTC Break up \n",
    "ctc = int(input(\"Input CTC :\"))\n",
    "BP = round((61.1776701503951/100)*ctc)\n",
    "DA = round(1/10*BP) # Dearness Allowance \n",
    "HRA = round(2/10*BP)\n",
    "CA  = round((2.5/100)*BP) #Conveyence Allowances \n",
    "EA = round((2.5/100)*BP) #Entertainment Allowance \n",
    "OA = round((2.5/100)*BP) #Overime Allowance \n",
    "MR = round(3.125/100*BP) # Medical reiumbursements \n",
    "Al = DA+HRA+OA+MR+CA+EA\n",
    "GS = BP+Al\n",
    "print(GS)\n",
    "EPF = 12/100*(BP+DA)\n",
    "MI = 2000\n",
    "PF = round(12/100*BP) #12% of BP \n",
    "L = 50000\n",
    "TB = MI+PF+L\n",
    "# Many persons will have income from other sources also, so including it. \n",
    "ios = int(input(\"Enter income from other sources(If no income from other sources enter 0.):\"))\n",
    "TTI = GS+ios\n",
    "TI = TTI-(HRA+EPF) #Deducting EPF and HRA from tax for old regime  \n",
    "while True:\n",
    "    #This is under new regime \n",
    "    if TTI<=250000:\n",
    "        ts = \"<2.5L\"\n",
    "        taxn = 0\n",
    "    elif 250000<TTI<=500000:\n",
    "        ts = \"2.5L-5L\"\n",
    "        taxn = 0.05*(TTI)\n",
    "    elif 500000<TTI<=750000:\n",
    "        ts = \"5L-7.5L\"\n",
    "        taxn = 0.1*(TTI)\n",
    "    elif 750000<TTI<=1000000:\n",
    "        ts = \"7.5L-10L\"\n",
    "        taxn = (15/100)*TTI\n",
    "    elif 1000000<TTI<=1250000:\n",
    "        ts = \"10L-12.5L\"\n",
    "        taxn = (20/100)*TTI\n",
    "    elif 1250000<TTI<=1500000:\n",
    "        ts = \"12.5L-15L\"\n",
    "        taxn = (1/4)*TTI\n",
    "    else:\n",
    "        ts = \">15L\"\n",
    "        taxn = (30/100)*TTI\n",
    "    #This is under old regime   \n",
    "    if age<=60:\n",
    "        if TI<=250000:\n",
    "            taxo = 0\n",
    "            break\n",
    "        elif 250000<TI<=500000:\n",
    "            taxo = 0.05*(TI)\n",
    "            break\n",
    "        elif 500000<TI<=1000000:\n",
    "            taxo = (20/100)*(TI)\n",
    "            break\n",
    "        else:\n",
    "            taxo = (30/100)*TI \n",
    "            break\n",
    "    elif 60<age<=80:\n",
    "        if TI<=300000:\n",
    "            taxo = 0 \n",
    "            break\n",
    "        elif 300000<TI<=500000:\n",
    "            taxo = 0.04*(TI)\n",
    "            break\n",
    "        elif 500000<TI<=1000000:\n",
    "            taxo = (20/100)*(TI)\n",
    "            break\n",
    "        else:\n",
    "            taxo = (30/100)*TI\n",
    "            break\n",
    "    else:\n",
    "        if TI<=500000:\n",
    "            taxo = 0 \n",
    "            break\n",
    "        elif 500000<TI<=1000000:\n",
    "            taxo = (20/100)*(TI)\n",
    "            break\n",
    "        else:\n",
    "            taxo = (30/100)*TI\n",
    "            break\n",
    "        hp = int(input(\"Enter health premium per annum:\"))\n",
    "        inv_80c = int(input(\"Enter investment under 80c:\"))\n",
    "        nps = int(input(\"Enter investment in NPS:\"))\n",
    "        if hp<=25000:\n",
    "            TI = TI-hp\n",
    "            continue\n",
    "        else:\n",
    "            TI = TI-25000\n",
    "            continue\n",
    "        if inv_80c <= (150000-EPF):\n",
    "            TI = TI-inv_80c\n",
    "            continue\n",
    "        else:\n",
    "            TI = TI-(150000-EPF)\n",
    "            continue\n",
    "        if nps <= 50000:\n",
    "            TI = TI-nps\n",
    "            continue\n",
    "        else:\n",
    "            TI = TI-50000\n",
    "            continue\n",
    "print(\"Your Report\")    \n",
    "df = pd.DataFrame({\"Name\": name,\"Age\": age,\"CTC\": ctc,\"Gross Total Income\":TTI,\n",
    "                  \"Deductons(HRA,EPF)\":[HRA+EPF,\"-\"],\"Taxable Income\":[TI,TTI],\n",
    "                   \"Tax Slab\":ts,\n",
    "                   \"Tax Due on above\":[taxo,taxn]},\n",
    "                  index=[\"Old Regime\",\"New Regime\"])\n",
    "dft = df.T\n",
    "dft.style.set_properties(**{'background-color': 'black','color': 'white'})\n",
    "    "
   ]
  },
  {
   "cell_type": "markdown",
   "id": "103f0bf5",
   "metadata": {},
   "source": [
    "Duplicated"
   ]
  },
  {
   "cell_type": "markdown",
   "id": "fec9a7ae",
   "metadata": {},
   "source": [
    "## Income Tax calculator with exception handling "
   ]
  },
  {
   "cell_type": "code",
   "execution_count": 91,
   "id": "2a29f810",
   "metadata": {},
   "outputs": [
    {
     "name": "stdout",
     "output_type": "stream",
     "text": [
      "Please enter your name:Sree Kavya Durbaka\n",
      "Enter your age:24\n",
      "Input CTC :1500000\n",
      "Enter income from other sources(If no income from other sources enter 0.):0\n",
      "Do you have any investemtns(yes/no)?no\n",
      "YOUR TAX REPORT:\n",
      "                            Old Regime          New Regime\n",
      "Name                Sree Kavya Durbaka  Sree Kavya Durbaka\n",
      "Age                                 24                  24\n",
      "CTC                            1500000             1500000\n",
      "Gross Total Income             1290467             1290467\n",
      "Deductons(HRA,EPF)           304664.72                   -\n",
      "Taxable Income               985802.28           1290467.0\n",
      "Tax Due on above            197160.456           322616.75\n"
     ]
    }
   ],
   "source": [
    "try:\n",
    "    name = input(\"Please enter your name:\")\n",
    "    age = int(input(\"Enter your age:\"))\n",
    "\n",
    "    #CTC Break up \n",
    "    ctc = int(input(\"Input CTC :\"))\n",
    "    BP = round((61.1776701503951/100)*ctc)\n",
    "    DA = round(1/10*BP) # Dearness Allowance \n",
    "    HRA = round(2/10*BP)\n",
    "    CA  = round((2.5/100)*BP) #Conveyence Allowances \n",
    "    EA = round((2.5/100)*BP) #Entertainment Allowance \n",
    "    OA = round((2.5/100)*BP) #Overime Allowance \n",
    "    MR = round(3.125/100*BP) # Medical reiumbursements \n",
    "    Al = DA+HRA+OA+MR+CA+EA\n",
    "    GS = BP+Al\n",
    "    EPF = 12/100*(BP+DA)\n",
    "    MI = 2000\n",
    "    PF = round(12/100*BP) #12% of BP \n",
    "    L = 50000\n",
    "    TB = MI+PF+L\n",
    "\n",
    "    # Many persons will have income from other sources also, so including it. \n",
    "    ios = int(input(\"Enter income from other sources(If no income from other sources enter 0.):\"))\n",
    "    TTI = GS+ios\n",
    "    TI = TTI-(HRA+EPF) #Deducting EPF and HRA from tax for old regime  \n",
    "\n",
    "    count = 0 \n",
    "    while True:\n",
    "\n",
    "        #This is under new regime \n",
    "        if TTI<=250000:\n",
    "            ts = \"<2.5L\"\n",
    "            taxn = 0\n",
    "        elif 250000<TTI<=500000:\n",
    "            ts = \"2.5L-5L\"\n",
    "            taxn = 0.05*(TTI)\n",
    "        elif 500000<TTI<=750000:\n",
    "            ts = \"5L-7.5L\"\n",
    "            taxn = 0.1*(TTI)\n",
    "        elif 750000<TTI<=1000000:\n",
    "            ts = \"7.5L-10L\"\n",
    "            taxn = (15/100)*TTI\n",
    "        elif 1000000<TTI<=1250000:\n",
    "            ts = \"10L-12.5L\"\n",
    "            taxn = (20/100)*TTI\n",
    "        elif 1250000<TTI<=1500000:\n",
    "            ts = \"12.5L-15L\"\n",
    "            taxn = (1/4)*TTI\n",
    "        else:\n",
    "            ts = \">15L\"\n",
    "            taxn = (30/100)*TTI\n",
    "\n",
    "        #This is under old regime   \n",
    "        if age<=60:\n",
    "            if TI<=250000:\n",
    "                taxo = 0\n",
    "\n",
    "            elif 250000<TI<=500000:\n",
    "                taxo = 0.05*(TI)\n",
    "\n",
    "            elif 500000<TI<=1000000:\n",
    "                taxo = (20/100)*(TI)\n",
    "\n",
    "            else:\n",
    "                taxo = (30/100)*TI \n",
    "\n",
    "        elif 60<age<=80:\n",
    "            if TI<=300000:\n",
    "                taxo = 0 \n",
    "\n",
    "            elif 300000<TI<=500000:\n",
    "                taxo = 0.04*(TI)\n",
    "\n",
    "            elif 500000<TI<=1000000:\n",
    "                taxo = (20/100)*(TI)\n",
    "\n",
    "            else:\n",
    "                taxo = (30/100)*TI\n",
    "\n",
    "        else:\n",
    "            if TI<=500000:\n",
    "                taxo = 0 \n",
    "\n",
    "            elif 500000<TI<=1000000:\n",
    "                taxo = (20/100)*(TI)\n",
    "\n",
    "            else:\n",
    "                taxo = (30/100)*TI\n",
    "\n",
    "        df = pd.DataFrame({\"Name\": name,\"Age\": age,\"CTC\": ctc,\"Gross Total Income\":TTI,\n",
    "                            \"Deductons(HRA,EPF)\":[HRA+EPF,\"-\"],\"Taxable Income\":[TI,TTI],\n",
    "                            \"Tax Due on above\":[taxo,taxn]},\n",
    "                            index=[\"Old Regime\",\"New Regime\"])\n",
    "        dft = df.T\n",
    "\n",
    "        count = count+1   \n",
    "        if count ==2:\n",
    "              break\n",
    "        elif count<2:\n",
    "\n",
    "            ques = input(\"Do you have any investemtns(yes/no)?\")\n",
    "            if ques.lower() == \"yes\":\n",
    "                hp = int(input(\"Enter health premium per annum:\"))\n",
    "                inv_80c = int(input(\"Enter investment under 80c:\"))\n",
    "                nps = int(input(\"Enter investment in NPS:\"))\n",
    "\n",
    "                if hp<=25000:\n",
    "                    TI = TI-hp\n",
    "                    continue\n",
    "                else:\n",
    "                    TI = TI-25000\n",
    "                    continue\n",
    "                if inv_80c <= (150000-EPF):\n",
    "                    TI = TI-inv_80c\n",
    "                    continue\n",
    "                else:\n",
    "                    TI = TI-(150000-EPF)\n",
    "                    continue\n",
    "                if nps <= 50000:\n",
    "                    TI = TI-nps\n",
    "                    continue\n",
    "                else:\n",
    "                    TI = TI-50000\n",
    "                    continue\n",
    "\n",
    "\n",
    "    print(\"YOUR TAX REPORT:\")\n",
    "    print(dft)\n",
    "\n",
    "except:\n",
    "    print(\"Please give valid input\")\n",
    "\n"
   ]
  },
  {
   "cell_type": "code",
   "execution_count": null,
   "id": "17db1cea",
   "metadata": {},
   "outputs": [],
   "source": [
    "print(\"Tax Regime suggestion:\")\n",
    "if taxo<taxn:\n",
    "    print(\"Choose Old Tax Regime\")\n",
    "else:\n",
    "    print(\"Choose New Tax Regime\")\n"
   ]
  },
  {
   "cell_type": "markdown",
   "id": "f920b090",
   "metadata": {},
   "source": [
    "## Adding Investment declarations"
   ]
  },
  {
   "cell_type": "code",
   "execution_count": 59,
   "id": "ccaf57a3",
   "metadata": {},
   "outputs": [
    {
     "name": "stdout",
     "output_type": "stream",
     "text": [
      "Enter health premium per annum:20000\n",
      "Enter investment under 80c:100000\n",
      "Enter investment in NPS:20000\n"
     ]
    },
    {
     "data": {
      "text/plain": [
       "1267419.96"
      ]
     },
     "execution_count": 59,
     "metadata": {},
     "output_type": "execute_result"
    }
   ],
   "source": [
    "hp = int(input(\"Enter health premium per annum:\"))\n",
    "inv_80c = int(input(\"Enter investment under 80c:\"))\n",
    "nps = int(input(\"Enter investment in NPS:\"))\n",
    "if hp<=25000:\n",
    "    TI = TI-hp\n",
    "else:\n",
    "    TI = TI-25000\n",
    "if inv_80c <= (150000-EPF):\n",
    "    TI = TI-inv_80c\n",
    "else:\n",
    "    TI = TI-(150000-EPF)\n",
    "if nps <= 50000:\n",
    "    TI = TI-nps\n",
    "else:\n",
    "    TI = TI-50000\n",
    "TI"
   ]
  },
  {
   "cell_type": "code",
   "execution_count": null,
   "id": "35f5c61b",
   "metadata": {},
   "outputs": [],
   "source": [
    "# I want this result in a data frame \n",
    "# I want to improvise it further by adding 2/3 investment suggestions. "
   ]
  },
  {
   "cell_type": "code",
   "execution_count": 90,
   "id": "89c85f7c",
   "metadata": {},
   "outputs": [
    {
     "name": "stdout",
     "output_type": "stream",
     "text": [
      "Your report\n",
      "<pandas.io.formats.style.Styler object at 0x000001C0A1A13340>\n",
      "A\n"
     ]
    }
   ],
   "source": [
    "print(\"Your report\")\n",
    "df = pd.DataFrame({\"Name\": name,\"Age\": age,\"Tax\": tax},index=[\"1\"])\n",
    "\n",
    "df.style.set_properties(**{'background-color': 'black','color': 'white'})\n",
    "\n"
   ]
  },
  {
   "cell_type": "code",
   "execution_count": null,
   "id": "2e4efe07",
   "metadata": {},
   "outputs": [],
   "source": []
  }
 ],
 "metadata": {
  "kernelspec": {
   "display_name": "Python 3 (ipykernel)",
   "language": "python",
   "name": "python3"
  },
  "language_info": {
   "codemirror_mode": {
    "name": "ipython",
    "version": 3
   },
   "file_extension": ".py",
   "mimetype": "text/x-python",
   "name": "python",
   "nbconvert_exporter": "python",
   "pygments_lexer": "ipython3",
   "version": "3.9.7"
  }
 },
 "nbformat": 4,
 "nbformat_minor": 5
}
